{
 "cells": [
  {
   "cell_type": "markdown",
   "metadata": {},
   "source": [
    "# Intro"
   ]
  },
  {
   "cell_type": "markdown",
   "metadata": {},
   "source": [
    "## Generalist modules"
   ]
  },
  {
   "cell_type": "code",
   "execution_count": 1,
   "metadata": {
    "ExecuteTime": {
     "end_time": "2023-09-25T16:33:19.573405Z",
     "start_time": "2023-09-25T16:33:19.569028Z"
    }
   },
   "outputs": [],
   "source": [
    "import pickle"
   ]
  },
  {
   "cell_type": "code",
   "execution_count": 2,
   "metadata": {
    "ExecuteTime": {
     "end_time": "2023-09-25T16:33:19.879316Z",
     "start_time": "2023-09-25T16:33:19.730351Z"
    }
   },
   "outputs": [],
   "source": [
    "import numpy as np"
   ]
  },
  {
   "cell_type": "markdown",
   "metadata": {},
   "source": [
    "## HomeMade functions"
   ]
  },
  {
   "cell_type": "code",
   "execution_count": 3,
   "metadata": {
    "ExecuteTime": {
     "end_time": "2023-09-25T16:33:21.024474Z",
     "start_time": "2023-09-25T16:33:20.060276Z"
    }
   },
   "outputs": [],
   "source": [
    "from get_rt_network import get_rt_network as grn"
   ]
  },
  {
   "cell_type": "code",
   "execution_count": 4,
   "metadata": {
    "ExecuteTime": {
     "end_time": "2023-09-25T16:33:21.032280Z",
     "start_time": "2023-09-25T16:33:21.028337Z"
    }
   },
   "outputs": [],
   "source": [
    "from get_all_users_info import get_all_users_info as gaui"
   ]
  },
  {
   "cell_type": "code",
   "execution_count": 5,
   "metadata": {
    "ExecuteTime": {
     "end_time": "2023-09-25T16:33:22.542337Z",
     "start_time": "2023-09-25T16:33:21.034786Z"
    }
   },
   "outputs": [],
   "source": [
    "from get_vu_dico import get_vu_dico"
   ]
  },
  {
   "cell_type": "code",
   "execution_count": 6,
   "metadata": {
    "ExecuteTime": {
     "end_time": "2023-09-25T16:33:22.554940Z",
     "start_time": "2023-09-25T16:33:22.547201Z"
    }
   },
   "outputs": [],
   "source": [
    "from get_dico import get_dico"
   ]
  },
  {
   "cell_type": "markdown",
   "metadata": {},
   "source": [
    "# Get the retweet network and the bipartite network of verified and unverified users"
   ]
  },
  {
   "cell_type": "code",
   "execution_count": 7,
   "metadata": {
    "ExecuteTime": {
     "end_time": "2023-09-25T11:54:43.943592Z",
     "start_time": "2023-09-25T11:54:43.938855Z"
    }
   },
   "outputs": [],
   "source": [
    "file='/home/sarawalk/Twitter_Data/ita_election_campaign_2022/ita_election_campaign_2022_flat.jsonl'"
   ]
  },
  {
   "cell_type": "code",
   "execution_count": 8,
   "metadata": {
    "ExecuteTime": {
     "end_time": "2023-09-25T12:16:22.817270Z",
     "start_time": "2023-09-25T11:54:44.501291Z"
    }
   },
   "outputs": [
    {
     "name": "stdout",
     "output_type": "stream",
     "text": [
      "2,785,059\r"
     ]
    }
   ],
   "source": [
    "verified_adj_list, rtn_el=grn(file)"
   ]
  },
  {
   "cell_type": "code",
   "execution_count": 16,
   "metadata": {
    "ExecuteTime": {
     "end_time": "2023-09-25T16:16:32.864745Z",
     "start_time": "2023-09-25T16:16:32.771677Z"
    }
   },
   "outputs": [],
   "source": [
    "with open('val.pickle', 'wb') as f:\n",
    "    pickle.dump(verified_adj_list, f)"
   ]
  },
  {
   "cell_type": "code",
   "execution_count": 17,
   "metadata": {
    "ExecuteTime": {
     "end_time": "2023-09-25T16:17:01.006112Z",
     "start_time": "2023-09-25T16:16:49.765279Z"
    }
   },
   "outputs": [],
   "source": [
    "with open('rtn_el.pickle', 'wb') as f:\n",
    "    pickle.dump(rtn_el, f)"
   ]
  },
  {
   "cell_type": "markdown",
   "metadata": {},
   "source": [
    "# Get users' information"
   ]
  },
  {
   "cell_type": "code",
   "execution_count": 9,
   "metadata": {
    "ExecuteTime": {
     "end_time": "2023-09-25T15:58:07.487758Z",
     "start_time": "2023-09-25T15:35:35.751717Z"
    }
   },
   "outputs": [
    {
     "name": "stdout",
     "output_type": "stream",
     "text": [
      "2,785,059\r"
     ]
    }
   ],
   "source": [
    "user_dict=gaui(file)"
   ]
  },
  {
   "cell_type": "code",
   "execution_count": 18,
   "metadata": {
    "ExecuteTime": {
     "end_time": "2023-09-25T16:17:07.372966Z",
     "start_time": "2023-09-25T16:17:06.231932Z"
    }
   },
   "outputs": [],
   "source": [
    "with open('user_dict.pickle', 'wb') as f:\n",
    "    pickle.dump(user_dict, f)"
   ]
  },
  {
   "cell_type": "markdown",
   "metadata": {},
   "source": [
    "# Get the verified users' DiCo"
   ]
  },
  {
   "cell_type": "code",
   "execution_count": 5,
   "metadata": {
    "ExecuteTime": {
     "end_time": "2023-09-25T16:23:44.753170Z",
     "start_time": "2023-09-25T16:23:44.693295Z"
    }
   },
   "outputs": [],
   "source": [
    "with open('val.pickle', 'rb') as f:\n",
    "    verified_adj_list=pickle.load(f)"
   ]
  },
  {
   "cell_type": "code",
   "execution_count": 6,
   "metadata": {
    "ExecuteTime": {
     "end_time": "2023-09-25T16:25:28.162477Z",
     "start_time": "2023-09-25T16:23:44.976579Z"
    }
   },
   "outputs": [
    {
     "name": "stderr",
     "output_type": "stream",
     "text": [
      "/home/sarawalk/twitter_pai/lib/python3.8/site-packages/numba/core/utils.py:544: NumbaExperimentalFeatureWarning: First-class function type feature is experimental\n",
      "  warnings.warn(\"First-class function type feature is experimental\",\n",
      "/home/sarawalk/twitter_pai/lib/python3.8/site-packages/bicm/models_functions.py:30: NumbaExperimentalFeatureWarning: First-class function type feature is experimental\n",
      "  step_fun = args[0]\n",
      "/home/sarawalk/twitter_pai/lib/python3.8/site-packages/bicm/models_functions.py:31: NumbaExperimentalFeatureWarning: First-class function type feature is experimental\n",
      "  arg_step_fun = args[1]\n",
      "/home/sarawalk/twitter_pai/lib/python3.8/site-packages/numba/core/utils.py:544: NumbaExperimentalFeatureWarning: First-class function type feature is experimental\n",
      "  warnings.warn(\"First-class function type feature is experimental\",\n"
     ]
    },
    {
     "name": "stdout",
     "output_type": "stream",
     "text": [
      "max rows error = 5.4569682106375694e-12\n",
      "max columns error = 1.5944578990456648e-10\n",
      "total error = 4.827441779653441e-10\n",
      "Solver converged.\n"
     ]
    },
    {
     "name": "stderr",
     "output_type": "stream",
     "text": [
      "100%|██████████| 1128/1128 [01:14<00:00, 15.23it/s]\n"
     ]
    },
    {
     "name": "stdout",
     "output_type": "stream",
     "text": [
      "[undirect validation: 18:25:15]\tModularity of the original order=0.63853\n"
     ]
    },
    {
     "name": "stderr",
     "output_type": "stream",
     "text": [
      "  1%|          | 8/1000 [00:00<00:12, 77.21it/s]"
     ]
    },
    {
     "name": "stdout",
     "output_type": "stream",
     "text": [
      "[undirect validation: 18:25:15]\tstep: 8, (0.90%): Modularity=0.63853\n"
     ]
    },
    {
     "name": "stderr",
     "output_type": "stream",
     "text": [
      "100%|██████████| 1000/1000 [00:12<00:00, 79.00it/s]\n"
     ]
    }
   ],
   "source": [
    "memb_dict=get_vu_dico(verified_adj_list, lou_reshuffle=1000)"
   ]
  },
  {
   "cell_type": "code",
   "execution_count": 7,
   "metadata": {
    "ExecuteTime": {
     "end_time": "2023-09-25T16:25:28.181690Z",
     "start_time": "2023-09-25T16:25:28.166115Z"
    }
   },
   "outputs": [],
   "source": [
    "with open('memb_dict.pickle', 'wb') as f:\n",
    "    pickle.dump(memb_dict, f)"
   ]
  },
  {
   "cell_type": "markdown",
   "metadata": {},
   "source": [
    "# Get all DiCos' labels"
   ]
  },
  {
   "cell_type": "code",
   "execution_count": 7,
   "metadata": {
    "ExecuteTime": {
     "end_time": "2023-09-25T16:33:27.662932Z",
     "start_time": "2023-09-25T16:33:24.197371Z"
    }
   },
   "outputs": [],
   "source": [
    "with open('rtn_el.pickle', 'rb') as f:\n",
    "    rtn_el=pickle.load(f)"
   ]
  },
  {
   "cell_type": "code",
   "execution_count": 8,
   "metadata": {
    "ExecuteTime": {
     "end_time": "2023-09-25T16:33:27.673925Z",
     "start_time": "2023-09-25T16:33:27.666891Z"
    }
   },
   "outputs": [],
   "source": [
    "with open('memb_dict.pickle', 'rb') as f:\n",
    "    memb_dict=pickle.load(f)"
   ]
  },
  {
   "cell_type": "code",
   "execution_count": 10,
   "metadata": {
    "ExecuteTime": {
     "end_time": "2023-09-25T16:42:15.201740Z",
     "start_time": "2023-09-25T16:36:26.590149Z"
    }
   },
   "outputs": [
    {
     "name": "stderr",
     "output_type": "stream",
     "text": [
      "Multiple label propagations: 100%|██████████| 100/100 [04:25<00:00,  2.65s/it]\n",
      "100%|██████████| 222388/222388 [00:26<00:00, 8389.42it/s]\n"
     ]
    }
   ],
   "source": [
    "final_dico_labels=get_dico(rtn_el, memb_dict, rounds=100)"
   ]
  },
  {
   "cell_type": "code",
   "execution_count": null,
   "metadata": {
    "ExecuteTime": {
     "end_time": "2023-09-25T16:36:22.137986Z",
     "start_time": "2023-09-25T16:33:26.311Z"
    }
   },
   "outputs": [],
   "source": [
    "with open('final_dico_labels.pickle', 'wb') as f:\n",
    "    pickle.dump(final_dico_labels, f)"
   ]
  },
  {
   "cell_type": "code",
   "execution_count": null,
   "metadata": {},
   "outputs": [],
   "source": []
  }
 ],
 "metadata": {
  "kernelspec": {
   "display_name": "Python 3",
   "language": "python",
   "name": "python3"
  },
  "language_info": {
   "codemirror_mode": {
    "name": "ipython",
    "version": 3
   },
   "file_extension": ".py",
   "mimetype": "text/x-python",
   "name": "python",
   "nbconvert_exporter": "python",
   "pygments_lexer": "ipython3",
   "version": "3.8.10"
  },
  "toc": {
   "base_numbering": 1,
   "nav_menu": {},
   "number_sections": true,
   "sideBar": true,
   "skip_h1_title": false,
   "title_cell": "Table of Contents",
   "title_sidebar": "Contents",
   "toc_cell": false,
   "toc_position": {},
   "toc_section_display": true,
   "toc_window_display": true
  }
 },
 "nbformat": 4,
 "nbformat_minor": 2
}
